{
 "cells": [
  {
   "cell_type": "code",
   "execution_count": 9,
   "metadata": {},
   "outputs": [],
   "source": [
    "from typing import Annotated, List\n",
    "\n",
    "from typing_extensions import TypedDict\n",
    "\n",
    "from langgraph.graph import StateGraph, START, END\n",
    "from langgraph.graph.message import add_messages\n",
    "from langchain_core.messages import BaseMessage\n",
    "\n",
    "\n",
    "\n",
    "class State(TypedDict):\n",
    "\n",
    "    #messages: Annotated[list, add_messages]\n",
    "    \"\"\"\n",
    "    Estado del grafo: historial de mensajes.\n",
    "    \"\"\"\n",
    "    messages: Annotated[List[BaseMessage], add_messages]\n"
   ]
  },
  {
   "cell_type": "code",
   "execution_count": 12,
   "metadata": {},
   "outputs": [
    {
     "ename": "ImportError",
     "evalue": "cannot import name 'State' from 'src.app.utils.state' (c:\\Users\\AliciaSanJuliánFerna\\Documents\\Python\\restaurant-app\\src\\app\\utils\\state.py)",
     "output_type": "error",
     "traceback": [
      "\u001b[1;31m---------------------------------------------------------------------------\u001b[0m",
      "\u001b[1;31mImportError\u001b[0m                               Traceback (most recent call last)",
      "Cell \u001b[1;32mIn[12], line 3\u001b[0m\n\u001b[0;32m      1\u001b[0m \u001b[38;5;28;01mfrom\u001b[39;00m \u001b[38;5;21;01mlangchain_community\u001b[39;00m\u001b[38;5;21;01m.\u001b[39;00m\u001b[38;5;21;01mchat_models\u001b[39;00m \u001b[38;5;28;01mimport\u001b[39;00m ChatOpenAI\n\u001b[0;32m      2\u001b[0m \u001b[38;5;28;01mfrom\u001b[39;00m \u001b[38;5;21;01mlangchain\u001b[39;00m\u001b[38;5;21;01m.\u001b[39;00m\u001b[38;5;21;01mschema\u001b[39;00m \u001b[38;5;28;01mimport\u001b[39;00m HumanMessage\n\u001b[1;32m----> 3\u001b[0m \u001b[38;5;28;01mfrom\u001b[39;00m \u001b[38;5;21;01msrc\u001b[39;00m\u001b[38;5;21;01m.\u001b[39;00m\u001b[38;5;21;01mapp\u001b[39;00m\u001b[38;5;21;01m.\u001b[39;00m\u001b[38;5;21;01mutils\u001b[39;00m\u001b[38;5;21;01m.\u001b[39;00m\u001b[38;5;21;01mstate\u001b[39;00m \u001b[38;5;28;01mimport\u001b[39;00m State\n\u001b[0;32m      4\u001b[0m \u001b[38;5;28;01mfrom\u001b[39;00m \u001b[38;5;21;01msrc\u001b[39;00m\u001b[38;5;21;01m.\u001b[39;00m\u001b[38;5;21;01mapp\u001b[39;00m\u001b[38;5;21;01m.\u001b[39;00m\u001b[38;5;21;01mutils\u001b[39;00m\u001b[38;5;21;01m.\u001b[39;00m\u001b[38;5;21;01mtools\u001b[39;00m \u001b[38;5;28;01mimport\u001b[39;00m get_menu_items, create_reservation\n\u001b[0;32m      5\u001b[0m \u001b[38;5;28;01mfrom\u001b[39;00m \u001b[38;5;21;01mlanggraph\u001b[39;00m\u001b[38;5;21;01m.\u001b[39;00m\u001b[38;5;21;01mgraph\u001b[39;00m \u001b[38;5;28;01mimport\u001b[39;00m StateGraph, START, END\n",
      "\u001b[1;31mImportError\u001b[0m: cannot import name 'State' from 'src.app.utils.state' (c:\\Users\\AliciaSanJuliánFerna\\Documents\\Python\\restaurant-app\\src\\app\\utils\\state.py)"
     ]
    }
   ],
   "source": [
    "from langchain_community.chat_models import ChatOpenAI\n",
    "from langchain.schema import HumanMessage\n",
    "from src.app.utils.state import State\n",
    "from src.app.utils.tools import get_menu_items, create_reservation\n",
    "from langgraph.graph import StateGraph, START, END\n",
    "from langchain.schema import HumanMessage, AIMessage\n",
    "from langchain_core import tool\n",
    "from src.app.utils.tools import get_menu\n",
    "from src.app.utils.prompts import SYSTEM_PROMPT, WELCOME_MESSAGE\n",
    "from langgraph.prebuilt import ToolNode\n",
    "\n",
    "\n",
    "# Configurar el modelo de OpenAI\n",
    "llm = ChatOpenAI(model=\"gpt-3.5-turbo\", temperature=0.5)\n",
    "llm_with_tools = llm.bind_tools([get_menu])\n",
    "\n",
    "# Nodo humano: recibe mensajes del usuario\n",
    "def human_node(state: State) -> State:\n",
    "    \"\"\"\n",
    "    Nodo que recibe el input del usuario.\n",
    "    \"\"\"\n",
    "    return state  # Devuelve el estado tal como está\n",
    "\n",
    "# Nodo principal del chatbot\n",
    "def chatbot_node(state: State) -> State:\n",
    "    \"\"\"\n",
    "    Nodo que procesa los mensajes y decide si llamar una herramienta.\n",
    "    \"\"\"\n",
    "    messages = state[\"messages\"]\n",
    "    response = llm_with_tools.invoke([{\"role\": \"system\", \"content\": SYSTEM_PROMPT}] + messages)\n",
    "    return {\"messages\": messages + [response]}\n",
    "\n",
    "# Nodo de herramientas: ejecuta herramientas solicitadas\n",
    "tool_node = ToolNode([get_menu])\n"
   ]
  },
  {
   "cell_type": "code",
   "execution_count": null,
   "metadata": {},
   "outputs": [],
   "source": [
    "from datetime import datetime, time\n",
    "from sqlalchemy.orm import Session\n",
    "from src.app.models.restaurant import MenuItem, Reservation\n",
    "from src.app.databse.database import get_db\n",
    "from langchain_core import tool\n",
    "\n",
    "@tool\n",
    "def get_menu_items() -> str:\n",
    "    \"\"\"Obtiene los ítems del menú desde la base de datos.\"\"\"\n",
    "    # Obtener una sesión de la base de datos desde get_db\n",
    "    with next(get_db()) as db:  # Usar next() para manejar el generador\n",
    "        items = db.query(MenuItem).all()\n",
    "        if not items:\n",
    "            return \"El menú está vacío.\"\n",
    "        menu = \"\\n\".join([f\"{item.name} - {item.price}€\" for item in items])\n",
    "    return f\"Este es el menú actual:\\n{menu}\"\n",
    "\n",
    "@tool\n",
    "def get_menu() -> str:\n",
    "    \"\"\"Devuelve el menú actual del restaurante.\"\"\"\n",
    "    with next(get_db()) as db:\n",
    "        items = db.query(MenuItem).all()\n",
    "        if not items:\n",
    "            return \"El menú está vacío en este momento.\"\n",
    "        return \"\\n\".join([f\"{item.name} - {item.price}€\" for item in items])\n",
    "\n",
    "@tool\n",
    "def create_reservation(name: str, guests: int) -> str:\n",
    "    \"\"\"Crea una reserva en la base de datos.\"\"\"\n",
    "    # Fecha y hora por defecto\n",
    "    default_date = datetime.today().date()  # Fecha actual\n",
    "    default_time = time(hour=19, minute=0)  # Hora predeterminada para reservas\n",
    "    default_table_capacity = guests  # Supongamos que el tamaño de la mesa coincide con los invitados\n",
    "\n",
    "    with next(get_db()) as db:  # Usar next() para manejar el generador\n",
    "        new_reservation = Reservation(\n",
    "            restaurant_id=1,  # Simulación de un restaurante único\n",
    "            name=name,\n",
    "            date=default_date,\n",
    "            time=default_time,\n",
    "            guests=guests,\n",
    "            table_capacity=default_table_capacity\n",
    "        )\n",
    "        db.add(new_reservation)\n",
    "        db.commit()\n",
    "    return f\"Reserva creada con éxito para {name}, {guests} personas, el {default_date} a las {default_time}.\"\n"
   ]
  },
  {
   "cell_type": "code",
   "execution_count": null,
   "metadata": {},
   "outputs": [],
   "source": [
    "from langgraph.graph import StateGraph, END, START\n",
    "\n",
    "from langgraph.graph import StateGraph, START, END\n",
    "from src.app.utils.state import State\n",
    "from src.app.utils.nodes import chatbot\n",
    "\n",
    "\n",
    "\n",
    "\n",
    "\n",
    "from langgraph.graph import StateGraph, START, END\n",
    "from src.app.utils.state import State\n",
    "from src.app.utils.nodes import chatbot_node, human_node, tool_node\n",
    "\n",
    "# Función de enrutamiento\n",
    "def route_to_tools_or_human(state: State) -> str:\n",
    "    \"\"\"\n",
    "    Decide si ir al tool_node o al human_node basado en la presencia de tool_calls.\n",
    "    \"\"\"\n",
    "    last_message = state[\"messages\"][-1]\n",
    "    if hasattr(last_message, \"tool_calls\") and len(last_message.tool_calls) > 0:\n",
    "        return \"tools\"\n",
    "    return \"human\"\n",
    "\n",
    "# Crear el grafo\n",
    "builder = StateGraph(State)\n",
    "\n",
    "# Añadir nodos\n",
    "builder.add_node(\"chatbot\", chatbot_node)\n",
    "builder.add_node(\"tools\", tool_node)\n",
    "builder.add_node(\"human\", human_node)\n",
    "\n",
    "# Configurar transiciones\n",
    "builder.add_conditional_edges(\"chatbot\", route_to_tools_or_human)\n",
    "builder.add_edge(\"tools\", \"chatbot\")\n",
    "builder.add_edge(\"human\", \"chatbot\")\n",
    "builder.add_edge(START, \"chatbot\")\n",
    "builder.add_edge(\"chatbot\", END)\n",
    "\n",
    "# Compilar el grafo\n",
    "chat_graph = builder.compile()"
   ]
  },
  {
   "cell_type": "code",
   "execution_count": 7,
   "metadata": {},
   "outputs": [
    {
     "data": {
      "image/png": "[encoded data removed]",
      "text/plain": [
       "<IPython.core.display.Image object>"
      ]
     },
     "execution_count": 7,
     "metadata": {},
     "output_type": "execute_result"
    }
   ],
   "source": [
    "from IPython.display import Image, display\n",
    "\n",
    "Image(chat_graph.get_graph().draw_mermaid_png())"
   ]
  },
  {
   "cell_type": "code",
   "execution_count": 8,
   "metadata": {},
   "outputs": [
    {
     "name": "stdout",
     "output_type": "stream",
     "text": [
      "Este es el menú actual:\n",
      "Bruschetta - 5.5€\n",
      "Caprese - 8.0€\n",
      "Spaghetti Carbonara - 12.0€\n",
      "Risotto ai Funghi - 14.0€\n",
      "Tiramisù - 6.5€\n",
      "Panna Cotta - 5.5€\n"
     ]
    }
   ],
   "source": [
    "from src.app.utils.tools import get_menu_items\n",
    "\n",
    "print(get_menu_items())\n"
   ]
  }
 ],
 "metadata": {
  "kernelspec": {
   "display_name": "venv",
   "language": "python",
   "name": "python3"
  },
  "language_info": {
   "codemirror_mode": {
    "name": "ipython",
    "version": 3
   },
   "file_extension": ".py",
   "mimetype": "text/x-python",
   "name": "python",
   "nbconvert_exporter": "python",
   "pygments_lexer": "ipython3",
   "version": "3.12.8"
  }
 },
 "nbformat": 4,
 "nbformat_minor": 2
}
