{
 "cells": [
  {
   "cell_type": "code",
   "execution_count": 12,
   "metadata": {},
   "outputs": [],
   "source": [
    "from typing import Annotated, List\n",
    "\n",
    "from typing_extensions import TypedDict\n",
    "\n",
    "from langgraph.graph import StateGraph, START, END\n",
    "from langgraph.graph.message import add_messages\n",
    "from langchain_core.messages import BaseMessage\n",
    "\n",
    "\n",
    "\n",
    "class State(TypedDict):\n",
    "\n",
    "    #messages: Annotated[list, add_messages]\n",
    "    \"\"\"\n",
    "    Estado del grafo: historial de mensajes.\n",
    "    \"\"\"\n",
    "    finished: bool\n",
    "    messages: Annotated[List[BaseMessage], add_messages]\n"
   ]
  },
  {
   "cell_type": "code",
   "execution_count": 13,
   "metadata": {},
   "outputs": [],
   "source": [
    "from datetime import datetime, time\n",
    "from sqlalchemy.orm import Session\n",
    "from src.app.models.restaurant import MenuItem, Reservation\n",
    "from src.app.databse.database import get_db\n",
    "from langchain_core.tools import tool\n",
    "\n",
    "@tool\n",
    "def get_menu_items() -> str:\n",
    "    \"\"\"Obtiene los ítems del menú desde la base de datos.\"\"\"\n",
    "\n",
    "    with next(get_db()) as db:  \n",
    "        items = db.query(MenuItem).all()\n",
    "        if not items:\n",
    "            return \"El menú está vacío.\"\n",
    "        menu = \"\\n\".join([f\"{item.name} - {item.price}€\" for item in items])\n",
    "    return f\"Este es el menú actual:\\n{menu}\"\n",
    "\n",
    "@tool\n",
    "def get_menu() -> str:\n",
    "    \"\"\"Devuelve el menú actual del restaurante.\"\"\"\n",
    "    with next(get_db()) as db:\n",
    "        items = db.query(MenuItem).all()\n",
    "        if not items:\n",
    "            return \"El menú está vacío en este momento.\"\n",
    "        return \"\\n\".join([f\"{item.name} - {item.price}€\" for item in items])\n",
    "\n"
   ]
  },
  {
   "cell_type": "code",
   "execution_count": 14,
   "metadata": {},
   "outputs": [],
   "source": [
    "from langchain_openai import ChatOpenAI\n",
    "from langchain.schema import HumanMessage\n",
    "from langgraph.graph import StateGraph, START, END\n",
    "from langchain.schema import HumanMessage, AIMessage\n",
    "from langchain_core import tools\n",
    "from src.app.utils.prompts import SYSTEM_PROMPT, WELCOME_MESSAGE\n",
    "from langgraph.prebuilt import ToolNode\n",
    "\n",
    "\n",
    "# Configurar el modelo de OpenAI\n",
    "llm = ChatOpenAI(model=\"gpt-3.5-turbo\", temperature=0.5)\n",
    "llm_with_tools = llm.bind_tools([get_menu])\n",
    "\n",
    "\n",
    "\n",
    "def human_node(state: State) -> State:\n",
    "    \"\"\"\n",
    "    Nodo humano que espera input y decide si finalizar la conversación.\n",
    "    \"\"\"\n",
    "    last_msg = state[\"messages\"][-1]\n",
    "    print(\"Model:\", last_msg.content)\n",
    "\n",
    "    user_input = input(\"User: \")\n",
    "\n",
    "    # Si el usuario dice \"adiós\", finaliza\n",
    "    if user_input in {\"q\", \"quit\", \"exit\", \"goodbye\"}:\n",
    "        state[\"finished\"] = True\n",
    "\n",
    "    # Añade el input al estado\n",
    "    return state | {\"messages\": [HumanMessage(content=user_input)]}\n",
    "\n",
    "def chatbot_node(state: State) -> State:\n",
    "    \"\"\"\n",
    "    Nodo principal del chatbot: invoca el LLM y detecta tool_calls.\n",
    "    \"\"\"\n",
    "    messages = state[\"messages\"]\n",
    "\n",
    "    # Agregar el prompt del sistema\n",
    "    system_message = AIMessage(content=SYSTEM_PROMPT)\n",
    "\n",
    "    # Invocar el modelo con herramientas asociadas\n",
    "    response = llm_with_tools.invoke([system_message] + messages)\n",
    "\n",
    "    # Actualizar el historial de mensajes con la respuesta\n",
    "    return {\"messages\": messages + [response]}\n",
    "\n",
    "# Nodo de herramientas: ejecuta herramientas solicitadas\n",
    "tool_node = ToolNode([get_menu])\n"
   ]
  },
  {
   "cell_type": "code",
   "execution_count": 15,
   "metadata": {},
   "outputs": [],
   "source": [
    "from langgraph.graph import StateGraph, START, END\n",
    "def maybe_route_to_tools(state: State) -> str:\n",
    "    \"\"\"\n",
    "    Decide si ir al tool_node o finalizar el flujo.\n",
    "    \"\"\"\n",
    "    last_message = state[\"messages\"][-1]\n",
    "\n",
    "    # Si hay tool_calls, dirigir al nodo tools\n",
    "    if hasattr(last_message, \"tool_calls\") and len(last_message.tool_calls) > 0:\n",
    "        return \"tools\"\n",
    "    return \"__end__\"  # Evita rutas no deseadas hacia \"human\"\n",
    "\n",
    "def maybe_exit_human_node(state: State) -> str:\n",
    "    \"\"\"Route to the chatbot, unless it looks like the user is exiting.\"\"\"\n",
    "    if state.get(\"finished\", False):\n",
    "        return END\n",
    "    else:\n",
    "        return \"chatbot\"\n",
    "\n",
    "builder = StateGraph(State)\n",
    "\n",
    "builder.add_node(\"chatbot\", chatbot_node)\n",
    "builder.add_node(\"human\", human_node)\n",
    "#builder.add_node(\"tools\", tool_node)\n",
    "\n",
    "#builder.add_conditional_edges(\"chatbot\", maybe_route_to_tools)\n",
    "builder.add_edge(START, \"chatbot\")    # flujo inicial\n",
    "\n",
    "#builder.add_edge(\"tools\", \"chatbot\")  # tools regresa solo a chatbot\n",
    "builder.add_edge(\"chatbot\", \"human\")  # human regresa a chatbot\n",
    "builder.add_conditional_edges(\"human\", maybe_exit_human_node)\n",
    "\n",
    "\n",
    "grafo = builder.compile()\n"
   ]
  },
  {
   "cell_type": "code",
   "execution_count": 16,
   "metadata": {},
   "outputs": [
    {
     "data": {
      "image/png": "[encoded data removed]",
      "text/plain": [
       "<IPython.core.display.Image object>"
      ]
     },
     "execution_count": 16,
     "metadata": {},
     "output_type": "execute_result"
    }
   ],
   "source": [
    "from IPython.display import Image, display\n",
    " \n",
    "Image(grafo.get_graph().draw_mermaid_png())"
   ]
  },
  {
   "cell_type": "code",
   "execution_count": 17,
   "metadata": {},
   "outputs": [],
   "source": [
    "def maybe_route_to_tools(state: State) -> str:\n",
    "    \"\"\"\n",
    "    Decide si ir al tool_node o finalizar el flujo.\n",
    "    \"\"\"\n",
    "    last_message = state[\"messages\"][-1]\n",
    "\n",
    "    # Si hay tool_calls, dirigir al nodo tools\n",
    "    if hasattr(last_message, \"tool_calls\") and len(last_message.tool_calls) > 0:\n",
    "        return \"tools\"\n",
    "    return \"__end__\"  # Evita rutas no deseadas hacia \"human\"\n",
    "\n",
    "def maybe_exit_human_node(state: State) -> str:\n",
    "    \"\"\"Route to the chatbot, unless it looks like the user is exiting.\"\"\"\n",
    "    if state.get(\"finished\", False):\n",
    "        return END\n",
    "    else:\n",
    "        return \"chatbot\"\n",
    "\n",
    "builder = StateGraph(State)\n",
    "\n",
    "builder.add_node(\"chatbot\", chatbot_node)\n",
    "#builder.add_node(\"human\", human_node)\n",
    "builder.add_node(\"tools\", tool_node)\n",
    "\n",
    "builder.add_conditional_edges(\"chatbot\", maybe_route_to_tools)\n",
    "builder.add_edge(START, \"chatbot\")    # flujo inicial\n",
    "\n",
    "builder.add_edge(\"tools\", \"chatbot\")  # tools regresa solo a chatbot\n",
    "#builder.add_edge(\"chatbot\", \"human\")  # human regresa a chatbot\n",
    "#builder.add_conditional_edges(\"human\", maybe_exit_human_node)\n",
    "\n",
    "\n",
    "grafo = builder.compile()"
   ]
  },
  {
   "cell_type": "code",
   "execution_count": 18,
   "metadata": {},
   "outputs": [
    {
     "data": {
      "image/png": "[encoded data removed]",
      "text/plain": [
       "<IPython.core.display.Image object>"
      ]
     },
     "execution_count": 18,
     "metadata": {},
     "output_type": "execute_result"
    }
   ],
   "source": [
    "from IPython.display import Image, display\n",
    " \n",
    "Image(grafo.get_graph().draw_mermaid_png())"
   ]
  },
  {
   "cell_type": "code",
   "execution_count": null,
   "metadata": {},
   "outputs": [],
   "source": [
    "\n",
    "from langgraph.graph import StateGraph, START, END\n",
    "def maybe_route_to_tools(state: State) -> str:\n",
    "    \"\"\"\n",
    "    Decide si ir al nodo de herramientas o al nodo humano.\n",
    "    \"\"\"\n",
    "    last_message = state[\"messages\"][-1]\n",
    "    if hasattr(last_message, \"tool_calls\") and len(last_message.tool_calls) > 0:\n",
    "        return \"tools\"\n",
    "    return \"human\"\n",
    "\n",
    "def maybe_exit_human_node(state: State) -> str:\n",
    "    \"\"\"\n",
    "    Decide si finalizar el flujo o ir a tools.\n",
    "    \"\"\"\n",
    "    if state.get(\"finished\", False):\n",
    "        return END  # Finaliza el grafo\n",
    "    else:\n",
    "        return \"chatbot\"\n",
    "\n",
    "# Construcción del grafo\n",
    "builder = StateGraph(State)\n",
    "subgraph = StateGraph(State)\n",
    "\n",
    "# Definición de nodos\n",
    "builder.add_node(\"chatbot\", chatbot_node)\n",
    "builder.add_node(\"tools\", tool_node)\n",
    "builder.add_node(\"human\", human_node)\n",
    "\n",
    "builder.add_edge(START, \"chatbot\")  # Inicio → chatbot\n",
    "builder.add_conditional_edges(\"chatbot\", maybe_route_to_tools)  # chatbot → tools/human\n",
    "builder.add_conditional_edges(\"human\", maybe_exit_human_node)  # human → END/tools\n",
    "builder.add_edge(\"tools\", \"chatbot\")  # tools → chatbot\n",
    "\n",
    "builder.add_edge(START, \"chatbot\")  # Inicio → chatbot\n",
    "\n",
    "\n",
    "# Definición de conexiones\n",
    "#builder.add_edge(\"tools\", \"chatbot\")  # tools → chatbot\n",
    "\n",
    "\n",
    "# Compilar el grafo\n",
    "grafo = builder.compile()\n",
    "\n"
   ]
  },
  {
   "cell_type": "code",
   "execution_count": 98,
   "metadata": {},
   "outputs": [
    {
     "data": {
      "image/png": "[encoded data removed]",
      "text/plain": [
       "<IPython.core.display.Image object>"
      ]
     },
     "execution_count": 98,
     "metadata": {},
     "output_type": "execute_result"
    }
   ],
   "source": [
    "from IPython.display import Image, display\n",
    " \n",
    "Image(grafo.get_graph().draw_mermaid_png())"
   ]
  },
  {
   "cell_type": "code",
   "execution_count": 2,
   "metadata": {},
   "outputs": [
    {
     "ename": "TypeError",
     "evalue": "BaseTool.__call__() missing 1 required positional argument: 'tool_input'",
     "output_type": "error",
     "traceback": [
      "\u001b[1;31m---------------------------------------------------------------------------\u001b[0m",
      "\u001b[1;31mTypeError\u001b[0m                                 Traceback (most recent call last)",
      "Cell \u001b[1;32mIn[2], line 6\u001b[0m\n\u001b[0;32m      3\u001b[0m \u001b[38;5;28;01mfrom\u001b[39;00m \u001b[38;5;21;01mlangchain_core\u001b[39;00m\u001b[38;5;21;01m.\u001b[39;00m\u001b[38;5;21;01mtools\u001b[39;00m \u001b[38;5;28;01mimport\u001b[39;00m tool\n\u001b[0;32m      5\u001b[0m \u001b[38;5;66;03m#probar que se ejecuten las herramientas\u001b[39;00m\n\u001b[1;32m----> 6\u001b[0m \u001b[43mget_menu\u001b[49m\u001b[43m(\u001b[49m\u001b[43m)\u001b[49m\n",
      "File \u001b[1;32mc:\\Users\\AliciaSanJuliánFerna\\Documents\\Python\\restaurant-app\\venv\\Lib\\site-packages\\langchain_core\\_api\\deprecation.py:182\u001b[0m, in \u001b[0;36mdeprecated.<locals>.deprecate.<locals>.warning_emitting_wrapper\u001b[1;34m(*args, **kwargs)\u001b[0m\n\u001b[0;32m    180\u001b[0m     warned \u001b[38;5;241m=\u001b[39m \u001b[38;5;28;01mTrue\u001b[39;00m\n\u001b[0;32m    181\u001b[0m     emit_warning()\n\u001b[1;32m--> 182\u001b[0m \u001b[38;5;28;01mreturn\u001b[39;00m \u001b[43mwrapped\u001b[49m\u001b[43m(\u001b[49m\u001b[38;5;241;43m*\u001b[39;49m\u001b[43margs\u001b[49m\u001b[43m,\u001b[49m\u001b[43m \u001b[49m\u001b[38;5;241;43m*\u001b[39;49m\u001b[38;5;241;43m*\u001b[39;49m\u001b[43mkwargs\u001b[49m\u001b[43m)\u001b[49m\n",
      "\u001b[1;31mTypeError\u001b[0m: BaseTool.__call__() missing 1 required positional argument: 'tool_input'"
     ]
    }
   ],
   "source": []
  },
  {
   "cell_type": "code",
   "execution_count": 10,
   "metadata": {},
   "outputs": [
    {
     "data": {
      "text/plain": [
       "'Caprese - 8.0€ - MenuCategory.ANTIPASTI'"
      ]
     },
     "execution_count": 10,
     "metadata": {},
     "output_type": "execute_result"
    }
   ],
   "source": [
    "from src.app.databse.database import get_db\n",
    "from langchain_core.tools import tool\n",
    "from datetime import datetime, time\n",
    "from sqlalchemy.orm import Session\n",
    "from src.app.models.restaurant import MenuItem, Reservation\n",
    "from src.app.databse.database import get_db\n",
    "from langchain_core.tools import tool\n",
    "\n",
    "\n",
    "def get_menu() -> str:\n",
    "    \"\"\"Devuelve el menú actual del restaurante.\"\"\"\n",
    "    with next(get_db()) as db:\n",
    "        items = db.query(MenuItem).all()\n",
    "        if not items:\n",
    "            return \"El menú está vacío en este momento.\"\n",
    "        return \"\\n\".join([f\"{item.name} - {item.price}€ - {item.category}\" for item in items])\n",
    "    \n",
    "def get_menu_with_ingredients() ->str:\n",
    "    \"\"\"Devuelve el menú con los ingredientes de cada plato.\"\"\"\n",
    "    with next(get_db()) as db:\n",
    "        items = db.query(MenuItem).all()\n",
    "        if not items:\n",
    "            return \"El menú está vacío en este momento.\"\n",
    "        menu = \"\\n\".join([f\"{item.name} - {item.price}€ - {item.category} - {item.ingredients} ,Allergens: {item.allergens}\" for item in items])\n",
    "    return f\"Este es el menú actual con los ingredientes:\\n{menu}\"\n",
    "\n",
    "def get_menu_item(dish: str) -> str:\n",
    "    \"\"\"Devuelve un plato específico del menú.\"\"\"\n",
    "    with next(get_db()) as db:\n",
    "        item = db.query(MenuItem).filter(MenuItem.name == dish).first()\n",
    "        if not item:\n",
    "            return \"No se encontró el plato especificado.\"\n",
    "        return f\"{item.name} - {item.price}€ - {item.category}\"\n",
    "    \n",
    "get_menu_with_ingredients()\n",
    "get_menu_item(\"Caprese\")"
   ]
  }
 ],
 "metadata": {
  "kernelspec": {
   "display_name": "venv",
   "language": "python",
   "name": "python3"
  },
  "language_info": {
   "codemirror_mode": {
    "name": "ipython",
    "version": 3
   },
   "file_extension": ".py",
   "mimetype": "text/x-python",
   "name": "python",
   "nbconvert_exporter": "python",
   "pygments_lexer": "ipython3",
   "version": "3.12.8"
  }
 },
 "nbformat": 4,
 "nbformat_minor": 2
}
